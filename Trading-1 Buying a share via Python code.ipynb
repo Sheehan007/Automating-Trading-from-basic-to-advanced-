{
 "cells": [
  {
   "cell_type": "code",
   "execution_count": 2,
   "id": "4597e5db",
   "metadata": {},
   "outputs": [
    {
     "name": "stdout",
     "output_type": "stream",
     "text": [
      "Requirement already satisfied: alpaca-trade-api in c:\\users\\somen\\appdata\\local\\programs\\python\\python311\\lib\\site-packages (3.2.0)\n",
      "Requirement already satisfied: pandas>=0.18.1 in c:\\users\\somen\\appdata\\local\\programs\\python\\python311\\lib\\site-packages (from alpaca-trade-api) (2.3.0)\n",
      "Requirement already satisfied: numpy>=1.11.1 in c:\\users\\somen\\appdata\\local\\programs\\python\\python311\\lib\\site-packages (from alpaca-trade-api) (2.1.3)\n",
      "Requirement already satisfied: requests<3,>2 in c:\\users\\somen\\appdata\\local\\programs\\python\\python311\\lib\\site-packages (from alpaca-trade-api) (2.32.3)\n",
      "Requirement already satisfied: urllib3<2,>1.24 in c:\\users\\somen\\appdata\\local\\programs\\python\\python311\\lib\\site-packages (from alpaca-trade-api) (1.26.20)\n",
      "Requirement already satisfied: websocket-client<2,>=0.56.0 in c:\\users\\somen\\appdata\\local\\programs\\python\\python311\\lib\\site-packages (from alpaca-trade-api) (1.8.0)\n",
      "Requirement already satisfied: websockets<11,>=9.0 in c:\\users\\somen\\appdata\\local\\programs\\python\\python311\\lib\\site-packages (from alpaca-trade-api) (10.4)\n",
      "Requirement already satisfied: msgpack==1.0.3 in c:\\users\\somen\\appdata\\local\\programs\\python\\python311\\lib\\site-packages (from alpaca-trade-api) (1.0.3)\n",
      "Requirement already satisfied: aiohttp<4,>=3.8.3 in c:\\users\\somen\\appdata\\local\\programs\\python\\python311\\lib\\site-packages (from alpaca-trade-api) (3.12.9)\n",
      "Requirement already satisfied: PyYAML==6.0.1 in c:\\users\\somen\\appdata\\local\\programs\\python\\python311\\lib\\site-packages (from alpaca-trade-api) (6.0.1)\n",
      "Requirement already satisfied: deprecation==2.1.0 in c:\\users\\somen\\appdata\\local\\programs\\python\\python311\\lib\\site-packages (from alpaca-trade-api) (2.1.0)\n",
      "Requirement already satisfied: packaging in c:\\users\\somen\\appdata\\local\\programs\\python\\python311\\lib\\site-packages (from deprecation==2.1.0->alpaca-trade-api) (24.2)\n",
      "Requirement already satisfied: aiohappyeyeballs>=2.5.0 in c:\\users\\somen\\appdata\\local\\programs\\python\\python311\\lib\\site-packages (from aiohttp<4,>=3.8.3->alpaca-trade-api) (2.6.1)\n",
      "Requirement already satisfied: aiosignal>=1.1.2 in c:\\users\\somen\\appdata\\local\\programs\\python\\python311\\lib\\site-packages (from aiohttp<4,>=3.8.3->alpaca-trade-api) (1.3.2)\n",
      "Requirement already satisfied: attrs>=17.3.0 in c:\\users\\somen\\appdata\\local\\programs\\python\\python311\\lib\\site-packages (from aiohttp<4,>=3.8.3->alpaca-trade-api) (25.3.0)\n",
      "Requirement already satisfied: frozenlist>=1.1.1 in c:\\users\\somen\\appdata\\local\\programs\\python\\python311\\lib\\site-packages (from aiohttp<4,>=3.8.3->alpaca-trade-api) (1.6.2)\n",
      "Requirement already satisfied: multidict<7.0,>=4.5 in c:\\users\\somen\\appdata\\local\\programs\\python\\python311\\lib\\site-packages (from aiohttp<4,>=3.8.3->alpaca-trade-api) (6.4.4)\n",
      "Requirement already satisfied: propcache>=0.2.0 in c:\\users\\somen\\appdata\\local\\programs\\python\\python311\\lib\\site-packages (from aiohttp<4,>=3.8.3->alpaca-trade-api) (0.3.1)\n",
      "Requirement already satisfied: yarl<2.0,>=1.17.0 in c:\\users\\somen\\appdata\\local\\programs\\python\\python311\\lib\\site-packages (from aiohttp<4,>=3.8.3->alpaca-trade-api) (1.20.0)\n",
      "Requirement already satisfied: python-dateutil>=2.8.2 in c:\\users\\somen\\appdata\\roaming\\python\\python311\\site-packages (from pandas>=0.18.1->alpaca-trade-api) (2.9.0.post0)\n",
      "Requirement already satisfied: pytz>=2020.1 in c:\\users\\somen\\appdata\\local\\programs\\python\\python311\\lib\\site-packages (from pandas>=0.18.1->alpaca-trade-api) (2025.2)\n",
      "Requirement already satisfied: tzdata>=2022.7 in c:\\users\\somen\\appdata\\local\\programs\\python\\python311\\lib\\site-packages (from pandas>=0.18.1->alpaca-trade-api) (2025.2)\n",
      "Requirement already satisfied: charset-normalizer<4,>=2 in c:\\users\\somen\\appdata\\local\\programs\\python\\python311\\lib\\site-packages (from requests<3,>2->alpaca-trade-api) (3.4.1)\n",
      "Requirement already satisfied: idna<4,>=2.5 in c:\\users\\somen\\appdata\\local\\programs\\python\\python311\\lib\\site-packages (from requests<3,>2->alpaca-trade-api) (3.10)\n",
      "Requirement already satisfied: certifi>=2017.4.17 in c:\\users\\somen\\appdata\\local\\programs\\python\\python311\\lib\\site-packages (from requests<3,>2->alpaca-trade-api) (2025.1.31)\n",
      "Requirement already satisfied: six>=1.5 in c:\\users\\somen\\appdata\\local\\programs\\python\\python311\\lib\\site-packages (from python-dateutil>=2.8.2->pandas>=0.18.1->alpaca-trade-api) (1.17.0)\n",
      "Note: you may need to restart the kernel to use updated packages.\n"
     ]
    },
    {
     "name": "stderr",
     "output_type": "stream",
     "text": [
      "\n",
      "[notice] A new release of pip is available: 24.0 -> 25.1.1\n",
      "[notice] To update, run: python.exe -m pip install --upgrade pip\n"
     ]
    }
   ],
   "source": [
    "pip install alpaca-trade-api"
   ]
  },
  {
   "cell_type": "code",
   "execution_count": null,
   "id": "3bcdcb5c",
   "metadata": {},
   "outputs": [
    {
     "name": "stdout",
     "output_type": "stream",
     "text": [
      "Account status:  ACTIVE\n",
      "Cash available:  98739.5\n",
      "Buying power:  198736.73\n",
      "----------------------------------------\n",
      "Fethcing market data for META: \n",
      "2025-07-15 - O:723.9 H:724.4716 L:714 C:714.2101\n",
      "\n",
      " Placing a market order to buy 3 of shares of META: \n",
      "\n",
      "\n",
      " Your Open positions: \n",
      "\n",
      "6 share(s) of AAPL @ avg price 210.081667\n",
      "3 share(s) of META @ avg price 714.73\n",
      "\n",
      " Portfolio Summary: \n",
      "\n",
      "Cash: 96595.31\n",
      "Portfolio value: 99996.53\n"
     ]
    }
   ],
   "source": [
    "import alpaca_trade_api as tradeapi\n",
    "import time\n",
    "\n",
    "api_key = 'YOUR_API_KEY'\n",
    "secret_key = 'YOU_SECRET_KEY'\n",
    "base_url = 'BASE_URL'\n",
    "\n",
    "api = tradeapi.REST(api_key, secret_key, base_url, api_version='v2')\n",
    "\n",
    "# Account info\n",
    "account = api.get_account()\n",
    "print (\"Account status: \", account.status)\n",
    "print (\"Cash available: \", account.cash)\n",
    "print(\"Buying power: \", account.buying_power)\n",
    "print(\"-\" *40)\n",
    "\n",
    "symbol = \"META\"\n",
    "qty = 3\n",
    "\n",
    "print(f\"Fethcing market data for {symbol}: \")\n",
    "bars = api.get_bars(symbol, '1D', limit=5)\n",
    "for bar in bars:\n",
    "    print(f\"{bar.t.date()} - O:{bar.o} H:{bar.h} L:{bar.l} C:{bar.c}\")\n",
    "    \n",
    "# Submit a buying order\n",
    "print(f\"\\n Placing a market order to buy {qty} of shares of {symbol}: \\n\")\n",
    "order = api.submit_order(symbol = symbol, qty = qty, \n",
    "                         side = \"buy\", type = 'market', \n",
    "                         time_in_force = \"gtc\")\n",
    "time.sleep(3)\n",
    "\n",
    "# Open positions\n",
    "positions = api.list_positions()\n",
    "if positions:\n",
    "    print(\"\\n Your Open positions: \\n\")\n",
    "    for pos in positions:\n",
    "        print(f\"{pos.qty} share(s) of {pos.symbol} @ avg price {pos.avg_entry_price}\")\n",
    "else:\n",
    "    print(\"No open postions\")\n",
    "\n",
    "# Portfolio Overview\n",
    "print(\"\\n Portfolio Summary: \\n\")\n",
    "portfolio = api.get_account()\n",
    "print(f\"Cash: {portfolio.cash}\")\n",
    "print(f\"Portfolio value: {portfolio.portfolio_value}\")\n",
    "\n",
    "\n"
   ]
  },
  {
   "cell_type": "code",
   "execution_count": 4,
   "id": "30692a20",
   "metadata": {},
   "outputs": [
    {
     "name": "stdout",
     "output_type": "stream",
     "text": [
      "Market Open: True\n",
      "Current Time (UTC): 2025-07-15 10:38:17.906777097-04:00\n",
      "Next Close: 2025-07-15 16:00:00-04:00\n"
     ]
    }
   ],
   "source": [
    "clock = api.get_clock()\n",
    "print(f\"Market Open: {clock.is_open}\")\n",
    "print(f\"Current Time (UTC): {clock.timestamp}\")\n",
    "print(f\"Next Close: {clock.next_close}\")\n"
   ]
  },
  {
   "cell_type": "code",
   "execution_count": 6,
   "id": "a0d02b67",
   "metadata": {},
   "outputs": [
    {
     "name": "stdout",
     "output_type": "stream",
     "text": [
      "Order Status: AAPL | buy | filled | submitted_at: 2025-07-15 14:38:14.300655436+00:00\n",
      "Order Status: AAPL | buy | filled | submitted_at: 2025-07-14 15:31:08.853347+00:00\n",
      "Order Status: AAPL | buy | filled | submitted_at: 2025-07-14 08:00:09.776107+00:00\n",
      "Order Status: AAPL | buy | filled | submitted_at: 2025-07-14 08:00:09.772591+00:00\n",
      "Order Status: AAPL | buy | filled | submitted_at: 2025-07-14 08:00:09.769321+00:00\n"
     ]
    }
   ],
   "source": [
    "orders = api.list_orders(status='all', limit=5)\n",
    "for order in orders:\n",
    "    print(f\"Order Status: {order.symbol} | {order.side} | {order.status} | submitted_at: {order.submitted_at}\")\n"
   ]
  },
  {
   "cell_type": "markdown",
   "id": "345f34e2",
   "metadata": {},
   "source": []
  },
  {
   "cell_type": "code",
   "execution_count": null,
   "id": "906c5f8e",
   "metadata": {},
   "outputs": [],
   "source": []
  }
 ],
 "metadata": {
  "kernelspec": {
   "display_name": "Python 3",
   "language": "python",
   "name": "python3"
  },
  "language_info": {
   "codemirror_mode": {
    "name": "ipython",
    "version": 3
   },
   "file_extension": ".py",
   "mimetype": "text/x-python",
   "name": "python",
   "nbconvert_exporter": "python",
   "pygments_lexer": "ipython3",
   "version": "3.11.9"
  }
 },
 "nbformat": 4,
 "nbformat_minor": 5
}
