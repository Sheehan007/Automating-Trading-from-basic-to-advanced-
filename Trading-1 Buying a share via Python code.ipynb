{
 "cells": [
  {
   "cell_type": "code",
   "execution_count": 5,
   "id": "4597e5db",
   "metadata": {},
   "outputs": [
    {
     "name": "stdout",
     "output_type": "stream",
     "text": [
      "Collecting alpaca-trade-api\n",
      "  Downloading alpaca_trade_api-3.2.0-py3-none-any.whl.metadata (29 kB)\n",
      "Requirement already satisfied: pandas>=0.18.1 in c:\\users\\somen\\appdata\\local\\programs\\python\\python311\\lib\\site-packages (from alpaca-trade-api) (2.3.0)\n",
      "Requirement already satisfied: numpy>=1.11.1 in c:\\users\\somen\\appdata\\local\\programs\\python\\python311\\lib\\site-packages (from alpaca-trade-api) (2.1.3)\n",
      "Requirement already satisfied: requests<3,>2 in c:\\users\\somen\\appdata\\local\\programs\\python\\python311\\lib\\site-packages (from alpaca-trade-api) (2.32.3)\n",
      "Collecting urllib3<2,>1.24 (from alpaca-trade-api)\n",
      "  Downloading urllib3-1.26.20-py2.py3-none-any.whl.metadata (50 kB)\n",
      "     ---------------------------------------- 0.0/50.1 kB ? eta -:--:--\n",
      "     ---------------------------------------- 50.1/50.1 kB 1.3 MB/s eta 0:00:00\n",
      "Collecting websocket-client<2,>=0.56.0 (from alpaca-trade-api)\n",
      "  Using cached websocket_client-1.8.0-py3-none-any.whl.metadata (8.0 kB)\n",
      "Collecting websockets<11,>=9.0 (from alpaca-trade-api)\n",
      "  Downloading websockets-10.4-cp311-cp311-win_amd64.whl.metadata (6.4 kB)\n",
      "Collecting msgpack==1.0.3 (from alpaca-trade-api)\n",
      "  Downloading msgpack-1.0.3.tar.gz (123 kB)\n",
      "     ---------------------------------------- 0.0/123.8 kB ? eta -:--:--\n",
      "     -------------------------------------- 123.8/123.8 kB 3.7 MB/s eta 0:00:00\n",
      "  Preparing metadata (setup.py): started\n",
      "  Preparing metadata (setup.py): finished with status 'done'\n",
      "Requirement already satisfied: aiohttp<4,>=3.8.3 in c:\\users\\somen\\appdata\\local\\programs\\python\\python311\\lib\\site-packages (from alpaca-trade-api) (3.12.9)\n",
      "Collecting PyYAML==6.0.1 (from alpaca-trade-api)\n",
      "  Downloading PyYAML-6.0.1-cp311-cp311-win_amd64.whl.metadata (2.1 kB)\n",
      "Collecting deprecation==2.1.0 (from alpaca-trade-api)\n",
      "  Downloading deprecation-2.1.0-py2.py3-none-any.whl.metadata (4.6 kB)\n",
      "Requirement already satisfied: packaging in c:\\users\\somen\\appdata\\local\\programs\\python\\python311\\lib\\site-packages (from deprecation==2.1.0->alpaca-trade-api) (24.2)\n",
      "Requirement already satisfied: aiohappyeyeballs>=2.5.0 in c:\\users\\somen\\appdata\\local\\programs\\python\\python311\\lib\\site-packages (from aiohttp<4,>=3.8.3->alpaca-trade-api) (2.6.1)\n",
      "Requirement already satisfied: aiosignal>=1.1.2 in c:\\users\\somen\\appdata\\local\\programs\\python\\python311\\lib\\site-packages (from aiohttp<4,>=3.8.3->alpaca-trade-api) (1.3.2)\n",
      "Requirement already satisfied: attrs>=17.3.0 in c:\\users\\somen\\appdata\\local\\programs\\python\\python311\\lib\\site-packages (from aiohttp<4,>=3.8.3->alpaca-trade-api) (25.3.0)\n",
      "Requirement already satisfied: frozenlist>=1.1.1 in c:\\users\\somen\\appdata\\local\\programs\\python\\python311\\lib\\site-packages (from aiohttp<4,>=3.8.3->alpaca-trade-api) (1.6.2)\n",
      "Requirement already satisfied: multidict<7.0,>=4.5 in c:\\users\\somen\\appdata\\local\\programs\\python\\python311\\lib\\site-packages (from aiohttp<4,>=3.8.3->alpaca-trade-api) (6.4.4)\n",
      "Requirement already satisfied: propcache>=0.2.0 in c:\\users\\somen\\appdata\\local\\programs\\python\\python311\\lib\\site-packages (from aiohttp<4,>=3.8.3->alpaca-trade-api) (0.3.1)\n",
      "Requirement already satisfied: yarl<2.0,>=1.17.0 in c:\\users\\somen\\appdata\\local\\programs\\python\\python311\\lib\\site-packages (from aiohttp<4,>=3.8.3->alpaca-trade-api) (1.20.0)\n",
      "Requirement already satisfied: python-dateutil>=2.8.2 in c:\\users\\somen\\appdata\\roaming\\python\\python311\\site-packages (from pandas>=0.18.1->alpaca-trade-api) (2.9.0.post0)\n",
      "Requirement already satisfied: pytz>=2020.1 in c:\\users\\somen\\appdata\\local\\programs\\python\\python311\\lib\\site-packages (from pandas>=0.18.1->alpaca-trade-api) (2025.2)\n",
      "Requirement already satisfied: tzdata>=2022.7 in c:\\users\\somen\\appdata\\local\\programs\\python\\python311\\lib\\site-packages (from pandas>=0.18.1->alpaca-trade-api) (2025.2)\n",
      "Requirement already satisfied: charset-normalizer<4,>=2 in c:\\users\\somen\\appdata\\local\\programs\\python\\python311\\lib\\site-packages (from requests<3,>2->alpaca-trade-api) (3.4.1)\n",
      "Requirement already satisfied: idna<4,>=2.5 in c:\\users\\somen\\appdata\\local\\programs\\python\\python311\\lib\\site-packages (from requests<3,>2->alpaca-trade-api) (3.10)\n",
      "Requirement already satisfied: certifi>=2017.4.17 in c:\\users\\somen\\appdata\\local\\programs\\python\\python311\\lib\\site-packages (from requests<3,>2->alpaca-trade-api) (2025.1.31)\n",
      "Requirement already satisfied: six>=1.5 in c:\\users\\somen\\appdata\\local\\programs\\python\\python311\\lib\\site-packages (from python-dateutil>=2.8.2->pandas>=0.18.1->alpaca-trade-api) (1.17.0)\n",
      "Downloading alpaca_trade_api-3.2.0-py3-none-any.whl (34 kB)\n",
      "Downloading deprecation-2.1.0-py2.py3-none-any.whl (11 kB)\n",
      "Downloading PyYAML-6.0.1-cp311-cp311-win_amd64.whl (144 kB)\n",
      "   ---------------------------------------- 0.0/144.7 kB ? eta -:--:--\n",
      "   ---------------------------------------- 144.7/144.7 kB 8.4 MB/s eta 0:00:00\n",
      "Downloading urllib3-1.26.20-py2.py3-none-any.whl (144 kB)\n",
      "   ---------------------------------------- 0.0/144.2 kB ? eta -:--:--\n",
      "   ---------------------------------------- 144.2/144.2 kB 4.3 MB/s eta 0:00:00\n",
      "Using cached websocket_client-1.8.0-py3-none-any.whl (58 kB)\n",
      "Downloading websockets-10.4-cp311-cp311-win_amd64.whl (101 kB)\n",
      "   ---------------------------------------- 0.0/101.4 kB ? eta -:--:--\n",
      "   ---------------------------------------- 101.4/101.4 kB 6.1 MB/s eta 0:00:00\n",
      "Building wheels for collected packages: msgpack\n",
      "  Building wheel for msgpack (setup.py): started\n",
      "  Building wheel for msgpack (setup.py): finished with status 'done'\n",
      "  Created wheel for msgpack: filename=msgpack-1.0.3-cp311-cp311-win_amd64.whl size=15732 sha256=e3216d9bc4d0bdf9352f0d2aa3c3d4d70899256d0aff6c660b0b80309949740c\n",
      "  Stored in directory: c:\\users\\somen\\appdata\\local\\pip\\cache\\wheels\\f6\\35\\da\\ed9b26b510235e00e3a3c3bab7bad97b59214729662255ab3d\n",
      "Successfully built msgpack\n",
      "Installing collected packages: msgpack, websockets, websocket-client, urllib3, PyYAML, deprecation, alpaca-trade-api\n",
      "  Attempting uninstall: websockets\n",
      "    Found existing installation: websockets 15.0.1\n",
      "    Uninstalling websockets-15.0.1:\n",
      "      Successfully uninstalled websockets-15.0.1\n",
      "  Attempting uninstall: urllib3\n",
      "    Found existing installation: urllib3 2.3.0\n",
      "    Uninstalling urllib3-2.3.0:\n",
      "      Successfully uninstalled urllib3-2.3.0\n",
      "  Attempting uninstall: PyYAML\n",
      "    Found existing installation: PyYAML 6.0.2\n",
      "    Uninstalling PyYAML-6.0.2:\n",
      "      Successfully uninstalled PyYAML-6.0.2\n",
      "Successfully installed PyYAML-6.0.1 alpaca-trade-api-3.2.0 deprecation-2.1.0 msgpack-1.0.3 urllib3-1.26.20 websocket-client-1.8.0 websockets-10.4\n",
      "Note: you may need to restart the kernel to use updated packages.\n"
     ]
    },
    {
     "name": "stderr",
     "output_type": "stream",
     "text": [
      "  WARNING: The script wsdump.exe is installed in 'c:\\Users\\SOMEN\\AppData\\Local\\Programs\\Python\\Python311\\Scripts' which is not on PATH.\n",
      "  Consider adding this directory to PATH or, if you prefer to suppress this warning, use --no-warn-script-location.\n",
      "ERROR: pip's dependency resolver does not currently take into account all the packages that are installed. This behaviour is the source of the following dependency conflicts.\n",
      "yfinance 0.2.63 requires websockets>=13.0, but you have websockets 10.4 which is incompatible.\n",
      "\n",
      "[notice] A new release of pip is available: 24.0 -> 25.1.1\n",
      "[notice] To update, run: python.exe -m pip install --upgrade pip\n"
     ]
    }
   ],
   "source": [
    "pip install alpaca-trade-api"
   ]
  },
  {
   "cell_type": "code",
   "execution_count": 12,
   "id": "3bcdcb5c",
   "metadata": {},
   "outputs": [
    {
     "name": "stdout",
     "output_type": "stream",
     "text": [
      "Account status:  ACTIVE\n",
      "Cash available:  100000\n",
      "Buying power:  200000\n",
      "----------------------------------------\n",
      "Fethcing market data for AAPL: \n",
      "\n",
      " Placing a market order to buy 1 of shares of AAPL: \n",
      "\n",
      "No open postions\n",
      "\n",
      " Portfolio Summary: \n",
      "\n",
      "Cash: 100000\n",
      "Portfolio value: 100000\n"
     ]
    }
   ],
   "source": [
    "import alpaca_trade_api as tradeapi\n",
    "import time\n",
    "\n",
    "api_key = 'YOUR_API_KEY'\n",
    "secret_key = 'YOUR_SECRET_KEY'\n",
    "base_url = 'BASE_URL'\n",
    "\n",
    "api = tradeapi.REST(api_key, secret_key, base_url, api_version='v2')\n",
    "\n",
    "# Account info\n",
    "account = api.get_account()\n",
    "print (\"Account status: \", account.status)\n",
    "print (\"Cash available: \", account.cash)\n",
    "print(\"Buying power: \", account.buying_power)\n",
    "print(\"-\" *40)\n",
    "\n",
    "symbol = \"AAPL\"\n",
    "qty = 1\n",
    "\n",
    "print(f\"Fethcing market data for {symbol}: \")\n",
    "bars = api.get_bars(symbol, '1D', limit=5)\n",
    "for bar in bars:\n",
    "    print(f\"{bar.t.date()} - O:{bar.o} H:{bar.h} L:{bar.l} C:{bar.c}\")\n",
    "    \n",
    "# Submit a buying order\n",
    "print(f\"\\n Placing a market order to buy {qty} of shares of {symbol}: \\n\")\n",
    "order = api.submit_order(symbol = symbol, qty = qty, \n",
    "                         side = \"buy\", type = 'market', \n",
    "                         time_in_force = \"gtc\")\n",
    "time.sleep(3)\n",
    "\n",
    "# Open positions\n",
    "positions = api.list_positions()\n",
    "if positions:\n",
    "    print(\"\\n Your Open positions: \\n\")\n",
    "    for pos in positions:\n",
    "        print(f\"{pos.qty} share(s) of {pos.symbol} @ avg price {pos.avg_entry_price}\")\n",
    "else:\n",
    "    print(\"No open postions\")\n",
    "\n",
    "# Portfolio Overview\n",
    "print(\"\\n Portfolio Summary: \\n\")\n",
    "portfolio = api.get_account()\n",
    "print(f\"Cash: {portfolio.cash}\")\n",
    "print(f\"Portfolio value: {portfolio.portfolio_value}\")\n",
    "\n",
    "\n"
   ]
  },
  {
   "cell_type": "code",
   "execution_count": null,
   "id": "30692a20",
   "metadata": {},
   "outputs": [
    {
     "name": "stdout",
     "output_type": "stream",
     "text": [
      "Market open: False\n"
     ]
    }
   ],
   "source": [
    "clock = api.get_clock()\n",
    "print(f\"Market open: {clock.is_open}\")\n",
    "\n",
    "# Whoops! The market is closed rn. Silly me!"
   ]
  },
  {
   "cell_type": "code",
   "execution_count": null,
   "id": "a0d02b67",
   "metadata": {},
   "outputs": [],
   "source": []
  },
  {
   "cell_type": "code",
   "execution_count": null,
   "id": "7cfddad6",
   "metadata": {},
   "outputs": [],
   "source": []
  },
  {
   "cell_type": "code",
   "execution_count": null,
   "id": "906c5f8e",
   "metadata": {},
   "outputs": [],
   "source": []
  }
 ],
 "metadata": {
  "kernelspec": {
   "display_name": "Python 3",
   "language": "python",
   "name": "python3"
  },
  "language_info": {
   "codemirror_mode": {
    "name": "ipython",
    "version": 3
   },
   "file_extension": ".py",
   "mimetype": "text/x-python",
   "name": "python",
   "nbconvert_exporter": "python",
   "pygments_lexer": "ipython3",
   "version": "3.11.9"
  }
 },
 "nbformat": 4,
 "nbformat_minor": 5
}
